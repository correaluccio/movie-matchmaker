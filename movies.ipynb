{
 "cells": [
  {
   "cell_type": "code",
   "execution_count": 2,
   "id": "7b75a1e8-a9b9-4fda-b91c-cfb9f61a88f4",
   "metadata": {},
   "outputs": [],
   "source": [
    "import pandas as pd\n",
    "import numpy as np\n",
    "import matplotlib as plt\n",
    "import seaborn as sns\n",
    "import re"
   ]
  },
  {
   "cell_type": "markdown",
   "id": "8f03f1ce-dfbd-4b0b-8261-dba81b335de4",
   "metadata": {},
   "source": [
    "# Algoritmos de recomendación de películas\n",
    "\n",
    "En el siguiente notebook se desarrollarán dos algoritmos sencillos basados en álgebra y matemática sencilla para determinar películas recomendadas para un usuario."
   ]
  },
  {
   "cell_type": "markdown",
   "id": "4fedc8be-c960-4bf2-9e4e-1dbf48a66903",
   "metadata": {},
   "source": [
    "## Preparación de los datos"
   ]
  },
  {
   "cell_type": "code",
   "execution_count": 3,
   "id": "68c09371-9422-47d6-9d5d-c34d0a54e9e7",
   "metadata": {},
   "outputs": [],
   "source": [
    "#Leemos los datos\n",
    "movies = pd.read_csv(\"mymoviedb.csv\", lineterminator='\\n')"
   ]
  },
  {
   "cell_type": "code",
   "execution_count": 4,
   "id": "1d6b264a-9c2d-47b3-bad0-2267a652e518",
   "metadata": {},
   "outputs": [
    {
     "data": {
      "text/html": [
       "<div>\n",
       "<style scoped>\n",
       "    .dataframe tbody tr th:only-of-type {\n",
       "        vertical-align: middle;\n",
       "    }\n",
       "\n",
       "    .dataframe tbody tr th {\n",
       "        vertical-align: top;\n",
       "    }\n",
       "\n",
       "    .dataframe thead th {\n",
       "        text-align: right;\n",
       "    }\n",
       "</style>\n",
       "<table border=\"1\" class=\"dataframe\">\n",
       "  <thead>\n",
       "    <tr style=\"text-align: right;\">\n",
       "      <th></th>\n",
       "      <th>Release_Date</th>\n",
       "      <th>Title</th>\n",
       "      <th>Overview</th>\n",
       "      <th>Original_Language</th>\n",
       "      <th>Genre</th>\n",
       "    </tr>\n",
       "  </thead>\n",
       "  <tbody>\n",
       "    <tr>\n",
       "      <th>0</th>\n",
       "      <td>2021-12-15</td>\n",
       "      <td>Spider-Man: No Way Home</td>\n",
       "      <td>Peter Parker is unmasked and no longer able to...</td>\n",
       "      <td>en</td>\n",
       "      <td>Action, Adventure, Science Fiction</td>\n",
       "    </tr>\n",
       "    <tr>\n",
       "      <th>1</th>\n",
       "      <td>2022-03-01</td>\n",
       "      <td>The Batman</td>\n",
       "      <td>In his second year of fighting crime, Batman u...</td>\n",
       "      <td>en</td>\n",
       "      <td>Crime, Mystery, Thriller</td>\n",
       "    </tr>\n",
       "    <tr>\n",
       "      <th>2</th>\n",
       "      <td>2022-02-25</td>\n",
       "      <td>No Exit</td>\n",
       "      <td>Stranded at a rest stop in the mountains durin...</td>\n",
       "      <td>en</td>\n",
       "      <td>Thriller</td>\n",
       "    </tr>\n",
       "    <tr>\n",
       "      <th>3</th>\n",
       "      <td>2021-11-24</td>\n",
       "      <td>Encanto</td>\n",
       "      <td>The tale of an extraordinary family, the Madri...</td>\n",
       "      <td>en</td>\n",
       "      <td>Animation, Comedy, Family, Fantasy</td>\n",
       "    </tr>\n",
       "    <tr>\n",
       "      <th>4</th>\n",
       "      <td>2021-12-22</td>\n",
       "      <td>The King's Man</td>\n",
       "      <td>As a collection of history's worst tyrants and...</td>\n",
       "      <td>en</td>\n",
       "      <td>Action, Adventure, Thriller, War</td>\n",
       "    </tr>\n",
       "    <tr>\n",
       "      <th>...</th>\n",
       "      <td>...</td>\n",
       "      <td>...</td>\n",
       "      <td>...</td>\n",
       "      <td>...</td>\n",
       "      <td>...</td>\n",
       "    </tr>\n",
       "    <tr>\n",
       "      <th>9822</th>\n",
       "      <td>1973-10-15</td>\n",
       "      <td>Badlands</td>\n",
       "      <td>A dramatization of the Starkweather-Fugate kil...</td>\n",
       "      <td>en</td>\n",
       "      <td>Drama, Crime</td>\n",
       "    </tr>\n",
       "    <tr>\n",
       "      <th>9823</th>\n",
       "      <td>2020-10-01</td>\n",
       "      <td>Violent Delights</td>\n",
       "      <td>A female vampire falls in love with a man she ...</td>\n",
       "      <td>es</td>\n",
       "      <td>Horror</td>\n",
       "    </tr>\n",
       "    <tr>\n",
       "      <th>9824</th>\n",
       "      <td>2016-05-06</td>\n",
       "      <td>The Offering</td>\n",
       "      <td>When young and successful reporter Jamie finds...</td>\n",
       "      <td>en</td>\n",
       "      <td>Mystery, Thriller, Horror</td>\n",
       "    </tr>\n",
       "    <tr>\n",
       "      <th>9825</th>\n",
       "      <td>2021-03-31</td>\n",
       "      <td>The United States vs. Billie Holiday</td>\n",
       "      <td>Billie Holiday spent much of her career being ...</td>\n",
       "      <td>en</td>\n",
       "      <td>Music, Drama, History</td>\n",
       "    </tr>\n",
       "    <tr>\n",
       "      <th>9826</th>\n",
       "      <td>1984-09-23</td>\n",
       "      <td>Threads</td>\n",
       "      <td>Documentary style account of a nuclear holocau...</td>\n",
       "      <td>en</td>\n",
       "      <td>War, Drama, Science Fiction</td>\n",
       "    </tr>\n",
       "  </tbody>\n",
       "</table>\n",
       "<p>9827 rows × 5 columns</p>\n",
       "</div>"
      ],
      "text/plain": [
       "     Release_Date                                 Title  \\\n",
       "0      2021-12-15               Spider-Man: No Way Home   \n",
       "1      2022-03-01                            The Batman   \n",
       "2      2022-02-25                               No Exit   \n",
       "3      2021-11-24                               Encanto   \n",
       "4      2021-12-22                        The King's Man   \n",
       "...           ...                                   ...   \n",
       "9822   1973-10-15                              Badlands   \n",
       "9823   2020-10-01                      Violent Delights   \n",
       "9824   2016-05-06                          The Offering   \n",
       "9825   2021-03-31  The United States vs. Billie Holiday   \n",
       "9826   1984-09-23                               Threads   \n",
       "\n",
       "                                               Overview Original_Language  \\\n",
       "0     Peter Parker is unmasked and no longer able to...                en   \n",
       "1     In his second year of fighting crime, Batman u...                en   \n",
       "2     Stranded at a rest stop in the mountains durin...                en   \n",
       "3     The tale of an extraordinary family, the Madri...                en   \n",
       "4     As a collection of history's worst tyrants and...                en   \n",
       "...                                                 ...               ...   \n",
       "9822  A dramatization of the Starkweather-Fugate kil...                en   \n",
       "9823  A female vampire falls in love with a man she ...                es   \n",
       "9824  When young and successful reporter Jamie finds...                en   \n",
       "9825  Billie Holiday spent much of her career being ...                en   \n",
       "9826  Documentary style account of a nuclear holocau...                en   \n",
       "\n",
       "                                   Genre  \n",
       "0     Action, Adventure, Science Fiction  \n",
       "1               Crime, Mystery, Thriller  \n",
       "2                               Thriller  \n",
       "3     Animation, Comedy, Family, Fantasy  \n",
       "4       Action, Adventure, Thriller, War  \n",
       "...                                  ...  \n",
       "9822                        Drama, Crime  \n",
       "9823                              Horror  \n",
       "9824           Mystery, Thriller, Horror  \n",
       "9825               Music, Drama, History  \n",
       "9826         War, Drama, Science Fiction  \n",
       "\n",
       "[9827 rows x 5 columns]"
      ]
     },
     "execution_count": 4,
     "metadata": {},
     "output_type": "execute_result"
    }
   ],
   "source": [
    "movies = movies[['Release_Date', 'Title', 'Overview','Original_Language', 'Genre']]\n",
    "movies"
   ]
  },
  {
   "cell_type": "code",
   "execution_count": 5,
   "id": "5fb8fdae-b402-4f93-b2d0-7fcd85ff1992",
   "metadata": {},
   "outputs": [],
   "source": [
    "#Transformo la fecha del formato yyyy/mm/dd al formato yyyy\n",
    "for row in range(9827):\n",
    "    movies[\"Release_Date\"][row] = int(movies[\"Release_Date\"][row][0:4])"
   ]
  },
  {
   "cell_type": "code",
   "execution_count": 6,
   "id": "ebde2b63-9d1f-4a92-8c8e-16b660a5cf90",
   "metadata": {},
   "outputs": [
    {
     "data": {
      "text/plain": [
       "<AxesSubplot:xlabel='Release_Date', ylabel='Count'>"
      ]
     },
     "execution_count": 6,
     "metadata": {},
     "output_type": "execute_result"
    },
    {
     "data": {
      "image/png": "[encoded data removed]",
      "text/plain": [
       "<Figure size 640x480 with 1 Axes>"
      ]
     },
     "metadata": {},
     "output_type": "display_data"
    }
   ],
   "source": [
    "#Observamos la distribución de los años\n",
    "sns.histplot(movies[\"Release_Date\"])"
   ]
  },
  {
   "cell_type": "code",
   "execution_count": 7,
   "id": "f83d126e-6f71-49f5-b65d-dd5afa73c1ed",
   "metadata": {},
   "outputs": [
    {
     "name": "stdout",
     "output_type": "stream",
     "text": [
      "0.25    2000.0\n",
      "0.50    2011.0\n",
      "0.75    2017.0\n",
      "Name: Release_Date, dtype: object\n"
     ]
    }
   ],
   "source": [
    "#Obtengo los cuartiles de la variable \"Release_Data\" \n",
    "quantiles = [0.25, 0.5, 0.75]\n",
    "result = movies[\"Release_Date\"].quantile(quantiles)\n",
    "print(result)"
   ]
  },
  {
   "cell_type": "code",
   "execution_count": 8,
   "id": "e3858c12-fad9-4e64-becc-c6c373491c5e",
   "metadata": {},
   "outputs": [],
   "source": [
    "# Se dividirán las películas en 5 categorías diferentes segun sus cuartiles\n",
    "# Posteriores al 2017, entre 2011 y 2017, entre 2011 y 2000 y anteriores al 2000.\n",
    "\n",
    "bins = [1900,2000,2011,2017,2022]\n",
    "labels = [0,1,2,4]\n",
    "movies[\"Release_Date\"] = pd.cut(movies[\"Release_Date\"], bins=bins, labels=labels, include_lowest=True)\n",
    "one_hot_encoded_date = pd.get_dummies(movies['Release_Date'], prefix='RD')\n",
    "movies = pd.concat([movies, one_hot_encoded_date], axis=1)"
   ]
  },
  {
   "cell_type": "code",
   "execution_count": 9,
   "id": "44ec5fc2-d1cb-48be-8e58-6507c318c24e",
   "metadata": {},
   "outputs": [],
   "source": [
    "# Se dividirán las películas en 5 categorías de idiomas -Inglés, japonés español, francés y otros- \n",
    "movies['Original_Language'] = movies['Original_Language'].astype(str)\n",
    "movies.loc[~movies[\"Original_Language\"].isin([\"en\", \"ja\", \"es\", \"fr\"]), \"Original_Language\"] = \"otro\"\n",
    "movies['Original_Language'] = movies['Original_Language'].astype(\"category\")"
   ]
  },
  {
   "cell_type": "code",
   "execution_count": 10,
   "id": "6e3cba24-7140-485f-9874-9dde5e994163",
   "metadata": {},
   "outputs": [
    {
     "data": {
      "text/plain": [
       "<AxesSubplot:xlabel='Original_Language', ylabel='Count'>"
      ]
     },
     "execution_count": 10,
     "metadata": {},
     "output_type": "execute_result"
    },
    {
     "data": {
      "image/png": "[encoded data removed]",
      "text/plain": [
       "<Figure size 640x480 with 1 Axes>"
      ]
     },
     "metadata": {},
     "output_type": "display_data"
    }
   ],
   "source": [
    "sns.histplot(movies[\"Original_Language\"])"
   ]
  },
  {
   "cell_type": "code",
   "execution_count": 11,
   "id": "197988b5-6e03-4435-aa23-68135a7f1c60",
   "metadata": {},
   "outputs": [],
   "source": [
    "#Transformo el lenguaje a \"one hot encoding\"\n",
    "one_hot_encoded_lan = pd.get_dummies(movies['Original_Language'], prefix='lan')\n",
    "movies = pd.concat([movies, one_hot_encoded_lan], axis=1)"
   ]
  },
  {
   "cell_type": "code",
   "execution_count": 12,
   "id": "21186b08-21c7-49fb-a68e-6b33e04663dd",
   "metadata": {},
   "outputs": [],
   "source": [
    "#Con expresiones regulares hallo las diferentes categorías de la columna \"Genre\"\n",
    "\n",
    "patron = r'\\b[^,]+(?=,|$)'\n",
    "list_of_genres = []\n",
    "for row in range(9827):\n",
    "    texto = movies[\"Genre\"][row]\n",
    "    genres = re.findall(patron,texto)\n",
    "    for y in genres:\n",
    "        if y not in list_of_genres:\n",
    "            list_of_genres.append(y)"
   ]
  },
  {
   "cell_type": "code",
   "execution_count": 13,
   "id": "b72930e6-dfde-4ccb-aa00-d201439f439b",
   "metadata": {},
   "outputs": [],
   "source": [
    "new_columns = {}\n",
    "for genre in list_of_genres:\n",
    "    new_columns[genre] = [0]*9827"
   ]
  },
  {
   "cell_type": "code",
   "execution_count": 14,
   "id": "09739e4f-b755-4683-a724-44835a8de022",
   "metadata": {},
   "outputs": [],
   "source": [
    "movies = movies.assign(**new_columns)"
   ]
  },
  {
   "cell_type": "code",
   "execution_count": 15,
   "id": "8fa4684b-205d-442f-822a-d1f0a6832412",
   "metadata": {},
   "outputs": [],
   "source": [
    "#Realizo one hot encoding con cada uno de los géneros extraidos anteriormente\n",
    "for genre in list_of_genres:\n",
    "    for index, row in movies.iterrows():\n",
    "        if genre in row[\"Genre\"]:\n",
    "            movies.at[index, genre] = 1"
   ]
  },
  {
   "cell_type": "code",
   "execution_count": 16,
   "id": "882beae9-1643-46cd-9c04-20d4b70ed2e8",
   "metadata": {},
   "outputs": [],
   "source": [
    "movies_hot_encoded = movies[[\n",
    "       'RD_0', 'RD_1', 'RD_2', 'RD_4','lan_en', 'lan_es', 'lan_fr', 'lan_ja', 'lan_otro', 'Action','Adventure', 'Science Fiction', 'Crime', 'Mystery', 'Thriller','Animation', 'Comedy', 'Family', 'Fantasy', 'War', 'Horror', 'Drama',\n",
    "       'Music', 'Romance', 'Western', 'History', 'TV Movie', 'Documentary']]"
   ]
  },
  {
   "cell_type": "markdown",
   "id": "1fd91e00-e7b0-45b9-b7a1-326e17fe52a6",
   "metadata": {},
   "source": [
    "# Algorítmo 1\n",
    "\n",
    "### Se realiza un algoritmo sencillo basado en el álgebra lineal"
   ]
  },
  {
   "cell_type": "code",
   "execution_count": 17,
   "id": "11a7c10b-96a2-4676-ad6d-0e776a464078",
   "metadata": {},
   "outputs": [],
   "source": [
    "usuario_1 = {500:4, 504:2.5, 524:5, 541:2.4 ,584:2} \n",
    "usuario_2 = {445:4, 454:2.5, 455:5, 461:2.4 ,625:3}  #Iron Man, La liga de la justicia,Interestellar, los increíbles, Star Wars"
   ]
  },
  {
   "cell_type": "code",
   "execution_count": 18,
   "id": "a73c30be-9f8f-40d8-8aa0-61525548b5ba",
   "metadata": {},
   "outputs": [],
   "source": [
    "def recomendar(preferencias):\n",
    "    valoracion_usuario =  [preferencias[i] for i in list(preferencias.keys())] \n",
    "    valoracion_usuario= np.array(valoracion_usuario)\n",
    "    movies_usuario = movies.iloc[list(preferencias.keys())] #Se obtienen las películas que le gustaron al usuario\n",
    "    matriz_usuario = movies_usuario[[\n",
    "                                       'RD_0', 'RD_1', 'RD_2', 'RD_4','lan_en', 'lan_es', 'lan_fr', 'lan_ja', 'lan_otro', 'Action','Adventure', 'Science Fiction', 'Crime', 'Mystery', 'Thriller','Animation', 'Comedy', 'Family', 'Fantasy', 'War', 'Horror', 'Drama',\n",
    "                                        'Music', 'Romance', 'Western', 'History', 'TV Movie', 'Documentary'\n",
    "                                                                                                                ]]\n",
    "    vector_peso_usuario = np.dot(valoracion_usuario,matriz_usuario) #Se obtiene un vector de peso de cada usuario\n",
    "    peso_candidatas = np.dot( movies_hot_encoded, vector_peso_usuario)\n",
    "    peso_candidatas = list(peso_candidatas) #Se calcula el peso de las películas\n",
    "    indices_valores_maximos = np.argsort(peso_candidatas)[-5:] #Se obtienen las 5 películas con mejor peso\n",
    "    return movies.iloc[list(indices_valores_maximos)]\n",
    "    \n",
    "    "
   ]
  },
  {
   "cell_type": "markdown",
   "id": "ae3010a4-585a-4cb9-958c-d3622c723983",
   "metadata": {},
   "source": [
    "## Ejemplos\n",
    "#### Se presentan 2 ejemplos de usuarios con distintas preferencias"
   ]
  },
  {
   "cell_type": "code",
   "execution_count": 19,
   "id": "65839365-187c-40ac-9489-99aa70722b45",
   "metadata": {},
   "outputs": [],
   "source": [
    "a = recomendar(usuario_1)\n",
    "b = recomendar(usuario_2)"
   ]
  },
  {
   "cell_type": "code",
   "execution_count": 20,
   "id": "fbd235ef-749a-4623-89b2-356272158946",
   "metadata": {},
   "outputs": [
    {
     "data": {
      "text/plain": [
       "500                         Toy Story 3\n",
       "504                               Ponyo\n",
       "524          Ice Age: Continental Drift\n",
       "541    Dragon Ball Z: The Tree of Might\n",
       "584                          Madagascar\n",
       "Name: Title, dtype: object"
      ]
     },
     "execution_count": 20,
     "metadata": {},
     "output_type": "execute_result"
    }
   ],
   "source": [
    "movies.loc[list(usuario_1.keys())][\"Title\"]"
   ]
  },
  {
   "cell_type": "code",
   "execution_count": 21,
   "id": "745ea397-5bf8-438d-a119-710b2fd08fba",
   "metadata": {},
   "outputs": [],
   "source": [
    "def show_favorites_and_recommended(preferencias):\n",
    "    print(\"Películas que vió y puntuó el usuario:\")\n",
    "    print(movies.loc[list(preferencias.keys())][\"Title\"])\n",
    "    print(\"\\n \\n\")\n",
    "    print(\"Películas que se le recomiendan al usuario:\") \n",
    "    print(recomendar(preferencias)[\"Title\"])\n",
    "    "
   ]
  },
  {
   "cell_type": "code",
   "execution_count": 22,
   "id": "903f578e-f3b3-4cc6-93d7-95ad94e3b30f",
   "metadata": {},
   "outputs": [
    {
     "name": "stdout",
     "output_type": "stream",
     "text": [
      "Películas que vió y puntuó el usuario:\n",
      "500                         Toy Story 3\n",
      "504                               Ponyo\n",
      "524          Ice Age: Continental Drift\n",
      "541    Dragon Ball Z: The Tree of Might\n",
      "584                          Madagascar\n",
      "Name: Title, dtype: object\n",
      "\n",
      " \n",
      "\n",
      "Películas que se le recomiendan al usuario:\n",
      "4748                Happily N'Ever After\n",
      "655                  Shrek Forever After\n",
      "1815    Sinbad: Legend of the Seven Seas\n",
      "4579           Jimmy Neutron: Boy Genius\n",
      "4239                 Yu-Gi-Oh! The Movie\n",
      "Name: Title, dtype: object\n"
     ]
    }
   ],
   "source": [
    "show_favorites_and_recommended(usuario_1)"
   ]
  },
  {
   "attachments": {
    "0b4eea7d-f7c0-45f9-b025-e7e445cfef60.png": {
     "image/png": "[encoded data removed]"
    }
   },
   "cell_type": "markdown",
   "id": "b554ff5e-3b20-4317-be90-43038d750e38",
   "metadata": {},
   "source": [
    "# Algoritmo 2: recomendación por similitud de cosenos\n",
    "\n",
    "Se transforma cada película en un vector y luego se calcula el coseno entre la película elegida y todas las demás. La película que tenga el coseno mas cercano a 1 (es decír un ángulo menor si se quiere pensar de esta manera) será recomendada por el algorítmo. Los cosenos se pueden calcular con la siguiente fórmula, pero en este caso utilizaré \"cosine_similarity\" incluido en la librería Scikit Learn.\n",
    "\n",
    "![image.png](attachment:0b4eea7d-f7c0-45f9-b025-e7e445cfef60.png)"
   ]
  },
  {
   "cell_type": "code",
   "execution_count": 23,
   "id": "cc6d87d0-5ab1-4399-a1eb-dc6967275c46",
   "metadata": {},
   "outputs": [],
   "source": [
    "from sklearn.metrics.pairwise import cosine_similarity"
   ]
  },
  {
   "cell_type": "code",
   "execution_count": 24,
   "id": "7803afc1-becf-45d7-a08a-5f3e10ec313d",
   "metadata": {},
   "outputs": [],
   "source": [
    "#Utilizaremos los datos calculados antes \"movies_hot_encoded\"\n",
    "#El usuario en este caso elegirá una película, supongamos que elije la 1 \"Batman\"\n",
    "movie_user = movies_hot_encoded.loc[1] #Movie_user == Batman\n",
    "movie_user = movie_user.to_numpy().reshape(1, -1) #Convierto la película en un array \n",
    "similarity_scores = cosine_similarity(movies_hot_encoded, movie_user) #Aplico el algorítmo mediante scikit-learn"
   ]
  },
  {
   "cell_type": "code",
   "execution_count": 25,
   "id": "7d75294b-cbaa-4b37-bfc9-b62d0efcf92b",
   "metadata": {},
   "outputs": [],
   "source": [
    "sorted_indices = np.argsort(similarity_scores.flatten())[::-1][1:7]\n",
    "sorted_indices = np.delete(sorted_indices, np.where(sorted_indices == 1))\n",
    "# Obtener los valores de similitud correspondientes a los 5 índices\n",
    "top_5_similarities = similarity_scores[sorted_indices]\n",
    "\n",
    "# Obtengo las 5 filas con las similitudes mas cercanas a 1\n",
    "top_5_df = pd.DataFrame({'Similarity': top_5_similarities.flatten()}, index=sorted_indices)"
   ]
  },
  {
   "cell_type": "code",
   "execution_count": 26,
   "id": "235e8784-42d9-453e-8ec9-a700813c260a",
   "metadata": {},
   "outputs": [
    {
     "data": {
      "text/html": [
       "<div>\n",
       "<style scoped>\n",
       "    .dataframe tbody tr th:only-of-type {\n",
       "        vertical-align: middle;\n",
       "    }\n",
       "\n",
       "    .dataframe tbody tr th {\n",
       "        vertical-align: top;\n",
       "    }\n",
       "\n",
       "    .dataframe thead th {\n",
       "        text-align: right;\n",
       "    }\n",
       "</style>\n",
       "<table border=\"1\" class=\"dataframe\">\n",
       "  <thead>\n",
       "    <tr style=\"text-align: right;\">\n",
       "      <th></th>\n",
       "      <th>Release_Date</th>\n",
       "      <th>Title</th>\n",
       "      <th>Overview</th>\n",
       "      <th>Original_Language</th>\n",
       "      <th>Genre</th>\n",
       "      <th>RD_0</th>\n",
       "      <th>RD_1</th>\n",
       "      <th>RD_2</th>\n",
       "      <th>RD_4</th>\n",
       "      <th>lan_en</th>\n",
       "      <th>...</th>\n",
       "      <th>Fantasy</th>\n",
       "      <th>War</th>\n",
       "      <th>Horror</th>\n",
       "      <th>Drama</th>\n",
       "      <th>Music</th>\n",
       "      <th>Romance</th>\n",
       "      <th>Western</th>\n",
       "      <th>History</th>\n",
       "      <th>TV Movie</th>\n",
       "      <th>Documentary</th>\n",
       "    </tr>\n",
       "  </thead>\n",
       "  <tbody>\n",
       "    <tr>\n",
       "      <th>7898</th>\n",
       "      <td>4</td>\n",
       "      <td>Wander</td>\n",
       "      <td>After getting hired to probe a suspicious deat...</td>\n",
       "      <td>en</td>\n",
       "      <td>Thriller, Crime, Mystery</td>\n",
       "      <td>0</td>\n",
       "      <td>0</td>\n",
       "      <td>0</td>\n",
       "      <td>1</td>\n",
       "      <td>1</td>\n",
       "      <td>...</td>\n",
       "      <td>0</td>\n",
       "      <td>0</td>\n",
       "      <td>0</td>\n",
       "      <td>0</td>\n",
       "      <td>0</td>\n",
       "      <td>0</td>\n",
       "      <td>0</td>\n",
       "      <td>0</td>\n",
       "      <td>0</td>\n",
       "      <td>0</td>\n",
       "    </tr>\n",
       "    <tr>\n",
       "      <th>6154</th>\n",
       "      <td>4</td>\n",
       "      <td>The Darker the Lake</td>\n",
       "      <td>When strange, supernatural murders suddenly be...</td>\n",
       "      <td>en</td>\n",
       "      <td>Crime, Thriller, Mystery</td>\n",
       "      <td>0</td>\n",
       "      <td>0</td>\n",
       "      <td>0</td>\n",
       "      <td>1</td>\n",
       "      <td>1</td>\n",
       "      <td>...</td>\n",
       "      <td>0</td>\n",
       "      <td>0</td>\n",
       "      <td>0</td>\n",
       "      <td>0</td>\n",
       "      <td>0</td>\n",
       "      <td>0</td>\n",
       "      <td>0</td>\n",
       "      <td>0</td>\n",
       "      <td>0</td>\n",
       "      <td>0</td>\n",
       "    </tr>\n",
       "    <tr>\n",
       "      <th>4768</th>\n",
       "      <td>4</td>\n",
       "      <td>The Dry</td>\n",
       "      <td>Aaron Falk returns to his drought-stricken hom...</td>\n",
       "      <td>en</td>\n",
       "      <td>Crime, Thriller, Mystery</td>\n",
       "      <td>0</td>\n",
       "      <td>0</td>\n",
       "      <td>0</td>\n",
       "      <td>1</td>\n",
       "      <td>1</td>\n",
       "      <td>...</td>\n",
       "      <td>0</td>\n",
       "      <td>0</td>\n",
       "      <td>0</td>\n",
       "      <td>0</td>\n",
       "      <td>0</td>\n",
       "      <td>0</td>\n",
       "      <td>0</td>\n",
       "      <td>0</td>\n",
       "      <td>0</td>\n",
       "      <td>0</td>\n",
       "    </tr>\n",
       "    <tr>\n",
       "      <th>6863</th>\n",
       "      <td>4</td>\n",
       "      <td>Hold the Dark</td>\n",
       "      <td>In the grim Alaskan winter, a naturalist hunts...</td>\n",
       "      <td>en</td>\n",
       "      <td>Thriller, Mystery, Crime</td>\n",
       "      <td>0</td>\n",
       "      <td>0</td>\n",
       "      <td>0</td>\n",
       "      <td>1</td>\n",
       "      <td>1</td>\n",
       "      <td>...</td>\n",
       "      <td>0</td>\n",
       "      <td>0</td>\n",
       "      <td>0</td>\n",
       "      <td>0</td>\n",
       "      <td>0</td>\n",
       "      <td>0</td>\n",
       "      <td>0</td>\n",
       "      <td>0</td>\n",
       "      <td>0</td>\n",
       "      <td>0</td>\n",
       "    </tr>\n",
       "    <tr>\n",
       "      <th>558</th>\n",
       "      <td>4</td>\n",
       "      <td>Beckett</td>\n",
       "      <td>An American tourist in Greece finds himself on...</td>\n",
       "      <td>en</td>\n",
       "      <td>Crime, Mystery, Thriller</td>\n",
       "      <td>0</td>\n",
       "      <td>0</td>\n",
       "      <td>0</td>\n",
       "      <td>1</td>\n",
       "      <td>1</td>\n",
       "      <td>...</td>\n",
       "      <td>0</td>\n",
       "      <td>0</td>\n",
       "      <td>0</td>\n",
       "      <td>0</td>\n",
       "      <td>0</td>\n",
       "      <td>0</td>\n",
       "      <td>0</td>\n",
       "      <td>0</td>\n",
       "      <td>0</td>\n",
       "      <td>0</td>\n",
       "    </tr>\n",
       "  </tbody>\n",
       "</table>\n",
       "<p>5 rows × 33 columns</p>\n",
       "</div>"
      ],
      "text/plain": [
       "     Release_Date                Title  \\\n",
       "7898            4               Wander   \n",
       "6154            4  The Darker the Lake   \n",
       "4768            4              The Dry   \n",
       "6863            4        Hold the Dark   \n",
       "558             4              Beckett   \n",
       "\n",
       "                                               Overview Original_Language  \\\n",
       "7898  After getting hired to probe a suspicious deat...                en   \n",
       "6154  When strange, supernatural murders suddenly be...                en   \n",
       "4768  Aaron Falk returns to his drought-stricken hom...                en   \n",
       "6863  In the grim Alaskan winter, a naturalist hunts...                en   \n",
       "558   An American tourist in Greece finds himself on...                en   \n",
       "\n",
       "                         Genre  RD_0  RD_1  RD_2  RD_4  lan_en  ...  Fantasy  \\\n",
       "7898  Thriller, Crime, Mystery     0     0     0     1       1  ...        0   \n",
       "6154  Crime, Thriller, Mystery     0     0     0     1       1  ...        0   \n",
       "4768  Crime, Thriller, Mystery     0     0     0     1       1  ...        0   \n",
       "6863  Thriller, Mystery, Crime     0     0     0     1       1  ...        0   \n",
       "558   Crime, Mystery, Thriller     0     0     0     1       1  ...        0   \n",
       "\n",
       "      War  Horror  Drama  Music  Romance  Western  History  TV Movie  \\\n",
       "7898    0       0      0      0        0        0        0         0   \n",
       "6154    0       0      0      0        0        0        0         0   \n",
       "4768    0       0      0      0        0        0        0         0   \n",
       "6863    0       0      0      0        0        0        0         0   \n",
       "558     0       0      0      0        0        0        0         0   \n",
       "\n",
       "      Documentary  \n",
       "7898            0  \n",
       "6154            0  \n",
       "4768            0  \n",
       "6863            0  \n",
       "558             0  \n",
       "\n",
       "[5 rows x 33 columns]"
      ]
     },
     "execution_count": 26,
     "metadata": {},
     "output_type": "execute_result"
    }
   ],
   "source": [
    "peliculas_similares = movies.iloc[top_5_df[\"Similarity\"].index] #Extraigo las películas del data frame original\n",
    "peliculas_similares"
   ]
  },
  {
   "cell_type": "code",
   "execution_count": 47,
   "id": "650e4126-35bb-4719-b238-bf6235dbd9cc",
   "metadata": {},
   "outputs": [],
   "source": [
    "def recommend_movies(index_movie):\n",
    "    \"\"\"Recomienda películas similares a la película seleccionada por su índice\"\"\"\n",
    "    movie_user = movies_hot_encoded.loc[index_movie]\n",
    "    print(\"Película elegida :\", movies.loc[index_movie][\"Title\"])\n",
    "    movie_user = movie_user.to_numpy().reshape(1, -1) \n",
    "    similarity_scores = cosine_similarity(movies_hot_encoded, movie_user) \n",
    "    sorted_indices = np.argsort(similarity_scores.flatten())[::-1][1:7]\n",
    "    sorted_indices = np.delete(sorted_indices, np.where(sorted_indices == index_movie))\n",
    "    top_5_similarities = similarity_scores[sorted_indices]\n",
    "    top_5_df = pd.DataFrame({'Similarity': top_5_similarities.flatten()}, index=sorted_indices)\n",
    "    peliculas_similares = movies.iloc[top_5_df[\"Similarity\"].index] #Extraigo las películas del data frame original\n",
    "    print(\"Recomendaciones: \",\" \\n\", peliculas_similares[\"Title\"])"
   ]
  },
  {
   "cell_type": "markdown",
   "id": "7d0c5e00-eb0a-4d94-a341-516e926c2b32",
   "metadata": {
    "tags": []
   },
   "source": [
    "### Ejemplos: El usuario elije la película 317 \"Cars\""
   ]
  },
  {
   "cell_type": "code",
   "execution_count": 48,
   "id": "8ea1e279-d0e2-4a34-b6b1-a0981dc4f78e",
   "metadata": {},
   "outputs": [
    {
     "name": "stdout",
     "output_type": "stream",
     "text": [
      "Película elegida : Cars 2\n",
      "Recomendaciones:   \n",
      " 3044    Mickey, Donald, Goofy: The Three Musketeers\n",
      "4394                                  Open Season 2\n",
      "440                  Ice Age: Dawn of the Dinosaurs\n",
      "5972                                  Open Season 3\n",
      "2640                                 Curious George\n",
      "Name: Title, dtype: object\n"
     ]
    }
   ],
   "source": [
    "#El usuario es un niño y eligió \"Cars 2\"\n",
    "recommend_movies(317)"
   ]
  },
  {
   "cell_type": "markdown",
   "id": "433b214b-3c63-44e8-8f80-f86432888629",
   "metadata": {},
   "source": [
    "El usuario eligió la película animada \"Cars 2\" y el algoritmo le recomendó 5 películas similares todas de dibujos animados para niños."
   ]
  },
  {
   "cell_type": "markdown",
   "id": "a60a4cfb-6e17-4a02-b70b-f7a26d42d0ff",
   "metadata": {},
   "source": [
    "### Ejemplos: El usuario elije la película 935 \"Django Unchained\""
   ]
  },
  {
   "cell_type": "code",
   "execution_count": 49,
   "id": "410d3c1e-6041-4b69-a5d1-57a1dadb8b1d",
   "metadata": {},
   "outputs": [
    {
     "name": "stdout",
     "output_type": "stream",
     "text": [
      "Película elegida : Django Unchained\n",
      "Recomendaciones:   \n",
      " 8775             Frontera\n",
      "5196       Jane Got a Gun\n",
      "4834       The Dressmaker\n",
      "2705    The Hateful Eight\n",
      "3855             Hostiles\n",
      "Name: Title, dtype: object\n"
     ]
    }
   ],
   "source": [
    "#Al nuevo usuario le gusta Quentin Tarantino y elije la película 935 \"Django Unchained\"\n",
    "recommend_movies(935)"
   ]
  },
  {
   "cell_type": "markdown",
   "id": "a4370b5a-224c-43a3-bc58-1af77cded279",
   "metadata": {},
   "source": [
    "Al usuario le encanta Tarantino y eligió ver The Hateful Eight"
   ]
  },
  {
   "cell_type": "markdown",
   "id": "d85a4fbd-0d88-4bb5-98bd-80a93b823305",
   "metadata": {},
   "source": [
    "### Ejemplos: El usuario elije la película 461 \"Interestellar\""
   ]
  },
  {
   "cell_type": "code",
   "execution_count": 50,
   "id": "2e49c209-a408-4ab4-8a9f-c1d1bb0ae494",
   "metadata": {},
   "outputs": [
    {
     "name": "stdout",
     "output_type": "stream",
     "text": [
      "Película elegida : Interstellar\n",
      "Recomendaciones:   \n",
      " 6727          Midnight Special\n",
      "931                The Martian\n",
      "4298      The Space Between Us\n",
      "168     Spider-Man: Homecoming\n",
      "4750                    Stasis\n",
      "Name: Title, dtype: object\n"
     ]
    }
   ],
   "source": [
    "# El útlimo usuario es un apasionado del cine sci-fi y eligió \"Interestellar\"\n",
    "recommend_movies(461)"
   ]
  },
  {
   "cell_type": "markdown",
   "id": "462760c8-9a20-468f-8b1e-3d1ff82e169d",
   "metadata": {},
   "source": [
    "Al último usuario muy probablemente le guste \"Midnight Special\""
   ]
  },
  {
   "cell_type": "code",
   "execution_count": 51,
   "id": "ca6873e9-0447-4267-b013-6638324544ec",
   "metadata": {},
   "outputs": [],
   "source": [
    "def buscar_indice(palabra_clave):\n",
    "    \"\"\"Esta función te permite buscar el índice de una película en el dataframe movies\"\"\"\n",
    "    return movies[movies['Title'].str.contains(palabra_clave, case=False)]"
   ]
  },
  {
   "cell_type": "code",
   "execution_count": 52,
   "id": "a3dec701-06f8-4aa6-969e-b2a516ef5046",
   "metadata": {},
   "outputs": [
    {
     "name": "stdout",
     "output_type": "stream",
     "text": [
      "Película elegida : The Terminator\n",
      "Recomendaciones:   \n",
      " 8143         Red Planet\n",
      "2377            RoboCop\n",
      "1865             Aliens\n",
      "2845    The Running Man\n",
      "2352           Godzilla\n",
      "Name: Title, dtype: object\n"
     ]
    }
   ],
   "source": [
    "recommend_movies(1423)"
   ]
  },
  {
   "cell_type": "code",
   "execution_count": 53,
   "id": "837031a1-56ea-4aa2-8727-7cc5f965b184",
   "metadata": {},
   "outputs": [
    {
     "name": "stdout",
     "output_type": "stream",
     "text": [
      "Película elegida : Taxi Driver\n",
      "Recomendaciones:   \n",
      " 8506             Dancer in the Dark\n",
      "3186                         Casino\n",
      "8674            Requiem for a Dream\n",
      "2891                    Stand by Me\n",
      "8615               Midnight Express\n",
      "2384    Once Upon a Time in America\n",
      "Name: Title, dtype: object\n"
     ]
    }
   ],
   "source": [
    "recommend_movies(1810)"
   ]
  },
  {
   "cell_type": "code",
   "execution_count": null,
   "id": "5d72661a-55c4-44fe-8056-49b64ac03f0a",
   "metadata": {},
   "outputs": [],
   "source": []
  },
  {
   "cell_type": "code",
   "execution_count": null,
   "id": "c0d0a9ad-1482-45b4-ab7d-7b27ba4746fd",
   "metadata": {},
   "outputs": [],
   "source": []
  }
 ],
 "metadata": {
  "kernelspec": {
   "display_name": "Python 3 (ipykernel)",
   "language": "python",
   "name": "python3"
  },
  "language_info": {
   "codemirror_mode": {
    "name": "ipython",
    "version": 3
   },
   "file_extension": ".py",
   "mimetype": "text/x-python",
   "name": "python",
   "nbconvert_exporter": "python",
   "pygments_lexer": "ipython3",
   "version": "3.9.13"
  }
 },
 "nbformat": 4,
 "nbformat_minor": 5
}
